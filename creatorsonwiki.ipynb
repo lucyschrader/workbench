{
 "cells": [
  {
   "cell_type": "markdown",
   "source": [
    "# Going from Te Papa's API to Wikidata\n",
    "This notebook searches for people in Te Papa's API that have Wikidata items, and then checks the items for a Commons category. If it finds one, it'll open it up in your browser.\n",
    "\n",
    "First you'll need to import two modules: `requests` and `webbrowser`."
   ],
   "metadata": {
    "collapsed": false
   },
   "id": "c56d4d40a05106a3"
  },
  {
   "cell_type": "code",
   "execution_count": null,
   "id": "initial_id",
   "metadata": {
    "collapsed": true
   },
   "outputs": [],
   "source": [
    "import requests\n",
    "import webbrowser"
   ]
  },
  {
   "cell_type": "markdown",
   "source": [
    "You need an API key to get data. [Register for an API key](https://data.tepapa.govt.nz/docs/register.html)"
   ],
   "metadata": {
    "collapsed": false
   },
   "id": "fc680eff065757ff"
  },
  {
   "cell_type": "code",
   "execution_count": null,
   "outputs": [],
   "source": [
    "# Insert your API key (in quotes) where the variable currently says None\n",
    "# If you don't have an API key yet, you can leave it blank and we'll pick up a guest token below\n",
    "api_key = None\n",
    "base_url = \"https://data.tepapa.govt.nz/collection\"\n",
    "\n",
    "# Authentication works by putting your key into the request headers\n",
    "headers = {\"x-api-key\": api_key, \"Content-Type\": \"application/json\",\n",
    "           \"Accept\": \"application/json;profiles=tepapa.collections.api.v1\"}\n",
    "\n",
    "if api_key:\n",
    "    print(\"Your API key is: {}\".format(api_key))\n",
    "else:\n",
    "    response = requests.get(\"{}/search\".format(base_url))\n",
    "    data = response.json()\n",
    "    guest_token = data[\"guestToken\"]\n",
    "    headers[\"Authorization\"] = \"Bearer {}\".format(guest_token)\n",
    "    print(\"Using guest authorisation {}\".format(guest_token))\n"
   ],
   "metadata": {
    "collapsed": false
   },
   "id": "a51b98d0f4562388"
  },
  {
   "cell_type": "markdown",
   "source": [
    "Use the endpoint variable to pick which kind of record to search, and enter a query string. Right now the query is set to \"*\" so it'll search everything, but you can stick a name in instead.\n",
    "\n",
    "We only want to show pages for a few creators, so we'll also set a `max_creators` variable, and `open_pages` will keep track of whether we've hit our limit."
   ],
   "metadata": {
    "collapsed": false
   },
   "id": "136aa0738d64305f"
  },
  {
   "cell_type": "code",
   "execution_count": null,
   "outputs": [],
   "source": [
    "endpoint = \"agent\"\n",
    "query = \"*\"\n",
    "\n",
    "max_creators = 5\n",
    "open_pages = 0\n",
    "\n",
    "# Plus here's a variable to store the records\n",
    "records = None\n",
    "\n",
    "print(\"Querying the {e} endpoint for {q}\".format(e=endpoint, q=query))"
   ],
   "metadata": {
    "collapsed": false
   },
   "id": "4dda1061f43d80af"
  },
  {
   "cell_type": "markdown",
   "source": [
    "Plug the endpoint and query into a request url and then use the `get` function in `requests` to ask Te Papa's API for the results."
   ],
   "metadata": {
    "collapsed": false
   },
   "id": "a7c0099dd2854217"
  },
  {
   "cell_type": "code",
   "execution_count": null,
   "outputs": [],
   "source": [
    "request_url = \"{b}/{e}?q={q}\".format(\n",
    "    b=base_url,\n",
    "    e=endpoint,\n",
    "    q=query)\n",
    "\n",
    "response = requests.get(request_url, headers=headers)\n",
    "\n",
    "print(response.status_code)"
   ],
   "metadata": {
    "collapsed": false
   },
   "id": "350eda8ef2f69d6b"
  },
  {
   "cell_type": "markdown",
   "source": [
    "If everything's working right, the request will have a status of `200`, and you can start digging through the results."
   ],
   "metadata": {
    "collapsed": false
   },
   "id": "af7604e5166babfc"
  },
  {
   "cell_type": "code",
   "execution_count": null,
   "outputs": [],
   "source": [
    "if response.status_code == 200:\n",
    "    records = response.json()\n",
    "    print(\"Records retrieved from {}\".format(request_url))\n",
    "    \n",
    "else:\n",
    "    exit(\"Request for {} failed\".format(request_url))"
   ],
   "metadata": {
    "collapsed": false
   },
   "id": "e69acdf38cb44424"
  },
  {
   "cell_type": "markdown",
   "source": [
    "Let's go through each of the returned records, and see if the person has a Wikidata item.\n",
    "\n",
    "To do this, we'll need a standalone function that triggers when a QID is found, so let's do that first. The lookup uses the Wikidata API, which doesn't require registration."
   ],
   "metadata": {
    "collapsed": false
   },
   "id": "1a0927fce52a9a0d"
  },
  {
   "cell_type": "code",
   "execution_count": null,
   "outputs": [],
   "source": [
    "def lookup_commons_category(creator_qid):\n",
    "    # Set parameters for querying Wikidata's API\n",
    "    params = {\"action\": \"wbgetentities\",\n",
    "            \"ids\": creator_qid,\n",
    "            \"format\": \"json\",\n",
    "            \"languages\": \"en\"\n",
    "            }\n",
    "            \n",
    "    # Find the data for this item\n",
    "    wd_creator_results = requests.get(\"https://wikidata.org/w/api.php\", params=params).json()\n",
    "    wd_creator_entity = wd_creator_results[\"entities\"][creator_qid]\n",
    "    print(wd_creator_entity)\n",
    "    \n",
    "    # See if the item has the Commons category property\n",
    "    try:\n",
    "        commons_property = wd_creator_entity[\"claims\"][\"P373\"][0]\n",
    "    except KeyError:\n",
    "        return False\n",
    "    \n",
    "    # Get the name of the Commons category, turn it into a url, and return it\n",
    "    if commons_property:\n",
    "        commons_category = commons_property[\"mainsnak\"][\"datavalue\"][\"value\"]\n",
    "        commons_url = \"https://commons.wikimedia.org/wiki/Category:{}\".format(commons_category)\n",
    "        return commons_url"
   ],
   "metadata": {
    "collapsed": false
   },
   "id": "aa13ae2413efd99a"
  },
  {
   "cell_type": "markdown",
   "source": [
    "Now we can check each record, using the above function if needed.\n",
    "\n",
    "Anytime the function finds a Commons category, it'll send it back to the main script, which will open it in a new browser tab."
   ],
   "metadata": {
    "collapsed": false
   },
   "id": "65cc97041cfe51dd"
  },
  {
   "cell_type": "code",
   "execution_count": null,
   "outputs": [],
   "source": [
    "record_index = 0\n",
    "while open_pages < max_creators:\n",
    "    try:\n",
    "        record = records[\"results\"][record_index]\n",
    "        commons_url = None\n",
    "        if record.get(\"related\"):\n",
    "            for link in record[\"related\"]:\n",
    "                if link.get(\"title\") == \"Wikidata\":\n",
    "                    creator_qid = link[\"contentUrl\"].split(\"/\")[-1]\n",
    "                    if creator_qid:\n",
    "                        # Look up the Wikidata item and see if it has a Commons page\n",
    "                        commons_url = lookup_commons_category(creator_qid)\n",
    "                        if commons_url:\n",
    "                            webbrowser.open(commons_url)\n",
    "                            open_pages += 1\n",
    "                        else:\n",
    "                            print(\"No Commons category for {}\".format(record[\"title\"]))\n",
    "                     \n",
    "        # Get ready to check the next record   \n",
    "        record_index += 1\n",
    "    \n",
    "    # If you've gone through all search results, stop the loop\n",
    "    except IndexError:\n",
    "        break"
   ],
   "metadata": {
    "collapsed": false
   },
   "id": "3827925850b86d08"
  },
  {
   "cell_type": "markdown",
   "source": [
    "Created by [Te Papa's](https://www.tepapa.govt.nz/) [Lucy Schrader](mailto:lucy.schrader@tepapa.govt.nz) for the [GLAM Workbench](https://glam-workbench.net/). "
   ],
   "metadata": {
    "collapsed": false
   },
   "id": "735077da39f11911"
  },
  {
   "cell_type": "markdown",
   "source": [],
   "metadata": {
    "collapsed": false
   },
   "id": "896b24f9add73f72"
  }
 ],
 "metadata": {
  "kernelspec": {
   "display_name": "Python 3",
   "language": "python",
   "name": "python3"
  },
  "language_info": {
   "codemirror_mode": {
    "name": "ipython",
    "version": 2
   },
   "file_extension": ".py",
   "mimetype": "text/x-python",
   "name": "python",
   "nbconvert_exporter": "python",
   "pygments_lexer": "ipython2",
   "version": "2.7.6"
  }
 },
 "nbformat": 4,
 "nbformat_minor": 5
}
